{
  "cells": [
    {
      "cell_type": "markdown",
      "metadata": {
        "id": "view-in-github",
        "colab_type": "text"
      },
      "source": [
        "<a href=\"https://colab.research.google.com/github/aliguzel13/book-recommendation-sytem-with-collaborative-filters/blob/main/DragGAN_Colab_NoteBook_by_marat_ai.ipynb\" target=\"_parent\"><img src=\"https://colab.research.google.com/assets/colab-badge.svg\" alt=\"Open In Colab\"/></a>"
      ]
    },
    {
      "cell_type": "markdown",
      "metadata": {
        "id": "4X6nqvYZ7xBs"
      },
      "source": [
        "# **DragGAN GoogleColab version**\n",
        "\n",
        "# ![pp.png](data:image/png;base64,iVBORw0KGgoAAAANSUhEUgAAABgAAAAYCAMAAADXqc3KAAACYVBMVEVHcEwXRoMTPn0VQoAWRIEPNXIQOHYPNnMQOXf+/v4SPXwTQH4OM3ARO3oXR4QWQ38OMGsXRYIOMm4RO3kPNHANMGoUPnkUP3oMLWcNL2kTPHcVPngXRYEVPngVQHoVP3kMLGQOM28LKmEUPXYMLGUNLmgOM28SPXoSPHoPNHAPNXAOMW0OMWwPNXESO3YXRoQKJ1oKJVYQMmUOMW0RNmwGGTsKJlgJI1ISN20GGTwNKFARNGcKJFQJJFQRNWkPNHEWRIAJH0EUPHUGGDkLJEgMJk0SN20HG0AFFjUTOG4OMm0LI0gUP3sRN3AQN3QMJUoMLGMLKFsJJFUGFzcWQn0PNG4MLGQUQH0QOXYKJVYNL2gLKl8QM2gOL2QGGTkLKV8UPHQVQ4ALKl8MJU0PMWcHGz0RN3EPNW8KIUYNL2np7PKxvtIWPXlAYZRNbJoWP3y8yNpHa5tde6bs8PRMbp2Em7yVqcXh5u6brcjc4uzo7fLM1eNyjLIdR4MtVYwyWI65xtnn7PL///8XRYIROngQOHUPNXEYR4QSPHsUQX8WRIEQNXIQNnMUQH4ROXcPNHEPM3AQOXYSPXwXRoMWQn0QN3QRO3oVQoATP30OM28VQX4PN3QYRoMXRYESPHgWQ38VQ4AWRIAOMm0OMW0OMGsOMm4RO3kUQH0UP3sTQH4TPn0ROXYcQnzK0+AQOHbT2+aWp8J4kLPy9PcVP33x9Pe7x9kTPXwcR4OxwNVAZZdLa5m1wtYRO3iAlrf4+ftBYpQoTob4+vutvdLq7vPd4+xkgKqxv9Ta4Or+/v79/v42WpD34U+dAAAAgnRSTlMA/v7+/v7+/v7+/v7+/v7+/v7+/v7+/v7z8/Pz/ub8++b+urr7/Pv+/vvm/Ob+/P52XFz+diB2XHYgIFxcXFz+/iGoICEgeCAheP4g/qj+Iah4eCH+uqj+/ni6qFx4Iaio/nggeCGouiG6/v7+/v7+/v7+/v7+/v7+/v7+/v7+/v7+qhvhNgAAAcFJREFUKM9jYIAAFzdlWXl5WWVPfwZk4JogF7JQpllQxmGKnJMVQtxaesrcOe1gMGfuFGk7mLiJOH+zPl87EPLxtesLzhe3gIgbifELTmZknAyEIJKxmV8sBiTuLTWrqxkFdM2SSgZK+PosYGHpAiEgAWEkrkhjYHDUC5/OzAxEO4oPVzVWHioEsZfrZTDEzuvtBIHt+5qaTjQ1NR3cCeT0zkthCFXn7uUGopImzmO1dQ1NnGVA7kr1dAYtDaYZTEBU2sR5lImppomzAshdpaHFoCnMNYkLiAqaOE9x1Vc3cRaBuMKaDGotHSCweUtT05HjJ5uadm8DcVvUGHQ4hKfx8k7L5WwCQs7yvfm8QO4yDh2GqKktILCxqWnrrv0H9rRAwNRMhkDdiD4Ojr5szqY8IM3RB0YTdZMY4rT91rGxrc7i3JQzkY2NbSIYTdVOZWAImDC7tXXN2vUbWuFg9oQwYFiZSvazs/eAEJCAMOwl3UHBayMgwtrNCkRAAswQETCERIiZ6Mz+NjjonylqAItCc4nFijwTePp5eHgmKBpL2CIi3TleVWCR0FIhIa8lqtGWKOnEI0hJQUVFQSkyGCoAAExQpE2pj7kUAAAAAElFTkSuQmCC) **[Buy me a coffee](https://www.paypal.me/maratsk)**\n",
        "\n",
        "\n",
        "![youtube.png](data:image/png;base64,iVBORw0KGgoAAAANSUhEUgAAABAAAAAQCAMAAAAoLQ9TAAAAJ1BMVEVHcEz/AAD/AAD/AAD/AAD/AAD/AAD/AAD/AAD/////mJj/wcH/jY3aUCqcAAAACHRSTlMA8czbELSvDrGIfzkAAABCSURBVBiVY2AgA7CwMTMycgABIyMzGztQgIkDCTABBThQAEyAixtNgIeTkwu/AIYWZEMxrGVhZWaE8BiZWVnI8RoAJWEEDt2WmW4AAAAASUVORK5CYII=) **[YouTube](https://www.youtube.com/watch?v=dQw4w9WgXcQ)** | ![youtube.png](data:image/png;base64,iVBORw0KGgoAAAANSUhEUgAAABAAAAAQCAMAAAAoLQ9TAAAA0lBMVEVHcEwASXEAVIIASXEAW40AW40AW40AW40AW40AW40ASXEARmwASXEAPV4ATnkAQGQAUoAAUn8AWowAQmYANFEANVIAQWUASXEAUHwAQmcAWowASXEAUX0AW40ASXGPscSPr8B/pLh/rcYMUXdJfZkDS3KlwtIqdqBWhqB9q8WZtsY/dpQzbY1Xh6GUs8MAWowAUHwAVoUqdp8AVIJ9pLkqZ4h9orelvsyJq70AWosAWYoATniNrb+kwM8ATHZ+oreBpbnF1t8DS3PI1+BbiaNbiqT25ex8AAAAHXRSTlMAmzOe3PvEmp3+3Ar+CjM0M/v7CgoKCsUzNNz7+yV3I4EAAACzSURBVBjTTY/XEoJADEUjbUEBezdrASxg7737/79kdmEcz9PeM5NsLgCRY5qua0yBmKJpocQyMyJXDPxhCGPiHyZAzcJBvy3pL9FSgCGOhlwyXC+QgYbYO/si+/suXzVAJ+Hdyfg3r8t5Kxbj12TyGAvRlCPR9Pl5B9OIRFouDQOxIwi3nKfApW8vHcluw+26POx45QkqXerQ6YdTnKtlUcahcrM5RVstJX1dphXy6VRWvL8EBRlO0i9n9wAAAABJRU5ErkJggg==) **[sdg.marat@gmail.com]** |\n"
      ]
    },
    {
      "cell_type": "code",
      "execution_count": 5,
      "metadata": {
        "id": "ciseg_wdLz3S",
        "outputId": "12fcceb1-6b7b-4ce7-821f-5660733d7d84",
        "colab": {
          "base_uri": "https://localhost:8080/"
        }
      },
      "outputs": [
        {
          "output_type": "stream",
          "name": "stdout",
          "text": [
            "\u001b[1;32mDone!\n"
          ]
        }
      ],
      "source": [
        "#@markdown # **STEP 1**\n",
        "#@markdown ## Requirements\n",
        "from IPython.display import clear_output\n",
        "\n",
        "print('\u001b[1;32mInstalling requirements...')\n",
        "#%pip install --quiet blendmodes accelerate basicsr fonts font-roboto gfpgan gradio invisible-watermark numpy omegaconf opencv-contrib-python requests piexif Pillow pytorch-lightning==1.7.7 realesrgan scikit-image==0.19 timm==0.4.12 transformers==4.25.1 torch einops jsonmerge clean-fid resize-right torchdiffeq kornia lark inflection GitPython torchsde safetensors psutil rich\n",
        "#%cd /content/\n",
        "!git clone https://github.com/XingangPan/DragGAN.git\n",
        "!pip install imgui\n",
        "!pip install glfw\n",
        "!pip install gradio\n",
        "!pip install ninja\n",
        "\n",
        "clear_output()\n",
        "print('\u001b[1;32mDone!')\n",
        "#!python launch.py --share --theme dark --api --ckpt-dir /content/models/ --disable-safe-unpickle --enable-insecure-extension-access --opt-sdp-attention --disable-console-progressbars --no-download-sd-model"
      ]
    },
    {
      "cell_type": "code",
      "execution_count": 6,
      "metadata": {
        "id": "KdpoWNt5wThV",
        "outputId": "ba6b7284-c054-4b16-bbcc-b26c5a261676",
        "colab": {
          "base_uri": "https://localhost:8080/"
        }
      },
      "outputs": [
        {
          "output_type": "stream",
          "name": "stdout",
          "text": [
            "\u001b[1;32mDone!\n"
          ]
        }
      ],
      "source": [
        "#@markdown # **STEP 2**\n",
        "#@markdown ## Download models\n",
        "\n",
        "\n",
        "%cd /content/DragGAN/\n",
        "!python scripts/download_model.py\n",
        "clear_output()\n",
        "print('\u001b[1;32mDone!')"
      ]
    },
    {
      "cell_type": "code",
      "execution_count": 7,
      "metadata": {
        "id": "HAFOrFrYyZaY",
        "outputId": "a0aa69f7-bea9-45e5-c6fe-4ccce82c9fde",
        "colab": {
          "base_uri": "https://localhost:8080/"
        }
      },
      "outputs": [
        {
          "output_type": "stream",
          "name": "stdout",
          "text": [
            "File under cache_dir (./checkpoints):\n",
            "['stylegan2_lions_512_pytorch.pkl', 'stylegan2-cat-config-f.pkl', 'stylegan2-afhqcat-512x512.pkl', 'stylegan2_elephants_512_pytorch.pkl', 'stylegan2_dogs_1024_pytorch.pkl', 'stylegan2_horses_256_pytorch.pkl', 'stylegan2-ffhq-512x512.pkl', 'stylegan2-car-config-f.pkl']\n",
            "Valid checkpoint file:\n",
            "{'stylegan2_lions_512_pytorch': './checkpoints/stylegan2_lions_512_pytorch.pkl', 'stylegan2-cat-config-f': './checkpoints/stylegan2-cat-config-f.pkl', 'stylegan2-afhqcat-512x512': './checkpoints/stylegan2-afhqcat-512x512.pkl', 'stylegan2_elephants_512_pytorch': './checkpoints/stylegan2_elephants_512_pytorch.pkl', 'stylegan2_dogs_1024_pytorch': './checkpoints/stylegan2_dogs_1024_pytorch.pkl', 'stylegan2_horses_256_pytorch': './checkpoints/stylegan2_horses_256_pytorch.pkl', 'stylegan2-ffhq-512x512': './checkpoints/stylegan2-ffhq-512x512.pkl', 'stylegan2-car-config-f': './checkpoints/stylegan2-car-config-f.pkl'}\n",
            "Loading \"./checkpoints/stylegan2_lions_512_pytorch.pkl\"... Done.\n",
            "()\n",
            "{'z_dim': 512, 'c_dim': 0, 'w_dim': 512, 'img_resolution': 512, 'img_channels': 3, 'mapping_kwargs': {'num_layers': 8, 'embed_features': None, 'layer_features': None, 'activation': 'lrelu', 'lr_multiplier': 0.01, 'w_avg_beta': 0.995}, 'synthesis_kwargs': {'channel_base': 32768, 'channel_max': 512, 'num_fp16_res': 0, 'conv_clamp': None, 'architecture': 'skip', 'resample_filter': [1, 3, 3, 1], 'use_noise': True, 'activation': 'lrelu'}}\n",
            "Traceback (most recent call last):\n",
            "  File \"/content/DragGAN/visualizer_drag_gradio.py\", line 205, in <module>\n",
            "    global_state = init_images(global_state)\n",
            "  File \"/content/DragGAN/visualizer_drag_gradio.py\", line 75, in init_images\n",
            "    state['renderer'].init_network(\n",
            "  File \"/content/DragGAN/viz/renderer.py\", line 224, in init_network\n",
            "    res.img_resolution = G.img_resolution\n",
            "AttributeError: 'dict' object has no attribute 'img_resolution'\n"
          ]
        }
      ],
      "source": [
        "#@markdown # **STEP 3**\n",
        "#@markdown ## Run\n",
        "!python visualizer_drag_gradio.py --share"
      ]
    },
    {
      "cell_type": "markdown",
      "metadata": {
        "id": "2g9c90Rs12kb"
      },
      "source": [
        "<form action=\"https://www.paypal.com/cgi-bin/webscr\" method=\"post\" target=\"_top\">\n",
        "  <input type=\"hidden\" name=\"cmd\" value=\"_s-xclick\" />\n",
        "  <input type=\"hidden\" name=\"hosted_button_id\" value=\"MDH8APKUVYW4L\" />\n",
        "  <table>\n",
        "    <tr>\n",
        "      <td>\n",
        "        <input type=\"hidden\" name=\"on0\" value=\"Thank you for donation!:)\"/>\n",
        "        Thank you for donation!:)\n",
        "      </td>\n",
        "    </tr>\n",
        "    <tr>\n",
        "      <td>\n",
        "        <input type=\"text\" name=\"os0\" maxLength=\"200\" />\n",
        "      </td>\n",
        "    </tr>\n",
        "  </table>\n",
        "  <input type=\"hidden\" name=\"currency_code\" value=\"USD\" />\n",
        "  <input type=\"image\" src=\"https://www.paypalobjects.com/en_US/i/btn/btn_paynowCC_LG.gif\" border=\"0\" name=\"submit\" title=\"PayPal - The safer, easier way to pay online!\" alt=\"Buy Now\" />\n",
        "</form>"
      ]
    }
  ],
  "metadata": {
    "accelerator": "GPU",
    "colab": {
      "provenance": [],
      "include_colab_link": true
    },
    "gpuClass": "standard",
    "kernelspec": {
      "display_name": "Python 3",
      "name": "python3"
    },
    "language_info": {
      "name": "python"
    }
  },
  "nbformat": 4,
  "nbformat_minor": 0
}